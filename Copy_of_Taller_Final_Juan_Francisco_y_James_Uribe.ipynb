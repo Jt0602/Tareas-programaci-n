{
  "nbformat": 4,
  "nbformat_minor": 0,
  "metadata": {
    "colab": {
      "provenance": []
    },
    "kernelspec": {
      "name": "python3",
      "display_name": "Python 3"
    },
    "language_info": {
      "name": "python"
    }
  },
  "cells": [
    {
      "cell_type": "markdown",
      "source": [
        "# Taller Final\n",
        "\n",
        "-James Uribe\n",
        "\n",
        "-Juan Francisco Torres"
      ],
      "metadata": {
        "id": "dNUpmNuwoSP8"
      }
    },
    {
      "cell_type": "markdown",
      "source": [
        "La detección temprana de fallos operativos en una empresa es muy importante para prevenir interrupciones dentro de la producción y minimizar los costos de mantenimiento. Una forma de lograr esto es mediante la implementación de un sistema de mantenimiento predictivo, que utiliza datos históricos y técnicas de aprendizaje automático para predecir cuándo puede ocurrir un fallo y tomar medidas preventivas, tal es el caso de la librería sklearn que fue utilizada en el modelo para realizar el proceso de regresión logística.\n",
        "\n",
        "Este trabajo fue realizado basándose en una base de datos de Kaggle llamada Machine Predictive Maintenance Classification que contiene información sobre el funcionamiento de una serie de máquinas en una empresa.El objetivo de este proyecto fue crear un modelo de regresión logística para poder predecir cuando una máquina estaba en óptimas condiciones o si iba a presentar un fallo. Después de esto, se utilizó un modelo de montecarlo con el fin de generar diferente escenarios, en los que las variables Air temperature, Process temperature, Rotational speed, Torque, Tool wear toman diferentes valores en base a una distribución normal y hallar la probabilidad de que las máquinas presentaran un fallo.\n",
        "\n",
        "La regresión logística es una técnica de aprendizaje automático que se utiliza para predecir la probabilidad de un evento binario, en este caso, el fallo o la no falla de una máquina. Se utilizó la base de datos de Kaggle para entrenar y validar el modelo de regresión logística. El conjunto de datos se dividió en dos partes: el conjunto de entrenamiento, que se utilizó para entrenar el modelo, y el conjunto de validación, que se utilizó para evaluar el rendimiento del modelo.\n",
        "\n",
        "Para mejorar la precisión del modelo, se realizaron varias transformaciones de los datos, como la normalización y la eliminación de datos atípicos. Además, se utilizaron técnicas de selección de características para identificar las variables más importantes para la detección de fallos.\n",
        "Una vez que se entrenó y validó el modelo de regresión logística, se aplicó un modelo de Montecarlo para simular diferentes escenarios y evaluar su efectividad en la detección de fallos. El modelo de Montecarlo es una técnica estadística que se utiliza para simular diferentes escenarios basados en la aleatoriedad de los datos. Se simularon diferentes escenarios para evaluar la efectividad del modelo en la detección de fallos en diferentes condiciones de temperatura en diferentes etapas y bajo diferentes cargas de trabajo.\n",
        "\n",
        "Los resultados del proyecto indicaron que el modelo de regresión logística fue efectivo en la detección de fallos operativos en la empresa. La aplicación del modelo de Montecarlo permite simular diferentes escenarios y evaluar la efectividad del modelo en condiciones realistas.\n",
        "\n",
        "La justificación de este proyecto radica en la necesidad de minimizar los costos de mantenimiento y prevenir interrupciones en la producción. La detección temprana de fallos operativos en las máquinas de una empresa puede evitar pérdidas económicas significativas y mejorar la eficiencia de la producción. La implementación de un sistema de mantenimiento predictivo basado en técnicas de aprendizaje automático como la regresión logística y el modelo de Montecarlo puede mejorar significativamente la eficacia de la detección temprana de fallos.\n",
        "\n",
        "\n",
        "\n"
      ],
      "metadata": {
        "id": "eEiJVW79oFXs"
      }
    },
    {
      "cell_type": "code",
      "execution_count": null,
      "metadata": {
        "id": "_cTYYEjhvzhY"
      },
      "outputs": [],
      "source": [
        "import numpy as np\n",
        "import pandas as pd\n",
        "import matplotlib.pyplot as plt\n",
        "from scipy import stats\n",
        "import warnings\n",
        "warnings.filterwarnings(\"ignore\")\n",
        "%pip install --quiet yfinance\n",
        "import yfinance as yf\n",
        "import statsmodels.api as sm\n",
        "from scipy.optimize import minimize\n",
        "import seaborn as sns\n",
        "from sklearn.linear_model import LogisticRegression\n",
        "from sklearn.model_selection import train_test_split\n",
        "from sklearn.metrics import accuracy_score, confusion_matrix\n",
        "from sklearn.datasets import make_classification\n",
        "from scipy.stats import norm\n"
      ]
    },
    {
      "cell_type": "code",
      "source": [
        "base_datos = pd.read_csv(\"/content/predictive_maintenance.csv\")\n",
        "base_datos"
      ],
      "metadata": {
        "colab": {
          "base_uri": "https://localhost:8080/",
          "height": 424
        },
        "id": "FdFM54x9wS9U",
        "outputId": "f106b7dc-5125-414e-9546-6093627e9920"
      },
      "execution_count": null,
      "outputs": [
        {
          "output_type": "execute_result",
          "data": {
            "text/plain": [
              "        UDI Product ID Type  Air temperature [K]  Process temperature [K]  \\\n",
              "0         1     M14860    M                298.1                    308.6   \n",
              "1         2     L47181    L                298.2                    308.7   \n",
              "2         3     L47182    L                298.1                    308.5   \n",
              "3         4     L47183    L                298.2                    308.6   \n",
              "4         5     L47184    L                298.2                    308.7   \n",
              "...     ...        ...  ...                  ...                      ...   \n",
              "9995   9996     M24855    M                298.8                    308.4   \n",
              "9996   9997     H39410    H                298.9                    308.4   \n",
              "9997   9998     M24857    M                299.0                    308.6   \n",
              "9998   9999     H39412    H                299.0                    308.7   \n",
              "9999  10000     M24859    M                299.0                    308.7   \n",
              "\n",
              "      Rotational speed [rpm]  Torque [Nm]  Tool wear [min]  Target  \\\n",
              "0                       1551         42.8                0       0   \n",
              "1                       1408         46.3                3       0   \n",
              "2                       1498         49.4                5       0   \n",
              "3                       1433         39.5                7       0   \n",
              "4                       1408         40.0                9       0   \n",
              "...                      ...          ...              ...     ...   \n",
              "9995                    1604         29.5               14       0   \n",
              "9996                    1632         31.8               17       0   \n",
              "9997                    1645         33.4               22       0   \n",
              "9998                    1408         48.5               25       0   \n",
              "9999                    1500         40.2               30       0   \n",
              "\n",
              "     Failure Type  \n",
              "0      No Failure  \n",
              "1      No Failure  \n",
              "2      No Failure  \n",
              "3      No Failure  \n",
              "4      No Failure  \n",
              "...           ...  \n",
              "9995   No Failure  \n",
              "9996   No Failure  \n",
              "9997   No Failure  \n",
              "9998   No Failure  \n",
              "9999   No Failure  \n",
              "\n",
              "[10000 rows x 10 columns]"
            ],
            "text/html": [
              "\n",
              "  <div id=\"df-d07bdad9-f718-48b1-8098-d384903b58ca\">\n",
              "    <div class=\"colab-df-container\">\n",
              "      <div>\n",
              "<style scoped>\n",
              "    .dataframe tbody tr th:only-of-type {\n",
              "        vertical-align: middle;\n",
              "    }\n",
              "\n",
              "    .dataframe tbody tr th {\n",
              "        vertical-align: top;\n",
              "    }\n",
              "\n",
              "    .dataframe thead th {\n",
              "        text-align: right;\n",
              "    }\n",
              "</style>\n",
              "<table border=\"1\" class=\"dataframe\">\n",
              "  <thead>\n",
              "    <tr style=\"text-align: right;\">\n",
              "      <th></th>\n",
              "      <th>UDI</th>\n",
              "      <th>Product ID</th>\n",
              "      <th>Type</th>\n",
              "      <th>Air temperature [K]</th>\n",
              "      <th>Process temperature [K]</th>\n",
              "      <th>Rotational speed [rpm]</th>\n",
              "      <th>Torque [Nm]</th>\n",
              "      <th>Tool wear [min]</th>\n",
              "      <th>Target</th>\n",
              "      <th>Failure Type</th>\n",
              "    </tr>\n",
              "  </thead>\n",
              "  <tbody>\n",
              "    <tr>\n",
              "      <th>0</th>\n",
              "      <td>1</td>\n",
              "      <td>M14860</td>\n",
              "      <td>M</td>\n",
              "      <td>298.1</td>\n",
              "      <td>308.6</td>\n",
              "      <td>1551</td>\n",
              "      <td>42.8</td>\n",
              "      <td>0</td>\n",
              "      <td>0</td>\n",
              "      <td>No Failure</td>\n",
              "    </tr>\n",
              "    <tr>\n",
              "      <th>1</th>\n",
              "      <td>2</td>\n",
              "      <td>L47181</td>\n",
              "      <td>L</td>\n",
              "      <td>298.2</td>\n",
              "      <td>308.7</td>\n",
              "      <td>1408</td>\n",
              "      <td>46.3</td>\n",
              "      <td>3</td>\n",
              "      <td>0</td>\n",
              "      <td>No Failure</td>\n",
              "    </tr>\n",
              "    <tr>\n",
              "      <th>2</th>\n",
              "      <td>3</td>\n",
              "      <td>L47182</td>\n",
              "      <td>L</td>\n",
              "      <td>298.1</td>\n",
              "      <td>308.5</td>\n",
              "      <td>1498</td>\n",
              "      <td>49.4</td>\n",
              "      <td>5</td>\n",
              "      <td>0</td>\n",
              "      <td>No Failure</td>\n",
              "    </tr>\n",
              "    <tr>\n",
              "      <th>3</th>\n",
              "      <td>4</td>\n",
              "      <td>L47183</td>\n",
              "      <td>L</td>\n",
              "      <td>298.2</td>\n",
              "      <td>308.6</td>\n",
              "      <td>1433</td>\n",
              "      <td>39.5</td>\n",
              "      <td>7</td>\n",
              "      <td>0</td>\n",
              "      <td>No Failure</td>\n",
              "    </tr>\n",
              "    <tr>\n",
              "      <th>4</th>\n",
              "      <td>5</td>\n",
              "      <td>L47184</td>\n",
              "      <td>L</td>\n",
              "      <td>298.2</td>\n",
              "      <td>308.7</td>\n",
              "      <td>1408</td>\n",
              "      <td>40.0</td>\n",
              "      <td>9</td>\n",
              "      <td>0</td>\n",
              "      <td>No Failure</td>\n",
              "    </tr>\n",
              "    <tr>\n",
              "      <th>...</th>\n",
              "      <td>...</td>\n",
              "      <td>...</td>\n",
              "      <td>...</td>\n",
              "      <td>...</td>\n",
              "      <td>...</td>\n",
              "      <td>...</td>\n",
              "      <td>...</td>\n",
              "      <td>...</td>\n",
              "      <td>...</td>\n",
              "      <td>...</td>\n",
              "    </tr>\n",
              "    <tr>\n",
              "      <th>9995</th>\n",
              "      <td>9996</td>\n",
              "      <td>M24855</td>\n",
              "      <td>M</td>\n",
              "      <td>298.8</td>\n",
              "      <td>308.4</td>\n",
              "      <td>1604</td>\n",
              "      <td>29.5</td>\n",
              "      <td>14</td>\n",
              "      <td>0</td>\n",
              "      <td>No Failure</td>\n",
              "    </tr>\n",
              "    <tr>\n",
              "      <th>9996</th>\n",
              "      <td>9997</td>\n",
              "      <td>H39410</td>\n",
              "      <td>H</td>\n",
              "      <td>298.9</td>\n",
              "      <td>308.4</td>\n",
              "      <td>1632</td>\n",
              "      <td>31.8</td>\n",
              "      <td>17</td>\n",
              "      <td>0</td>\n",
              "      <td>No Failure</td>\n",
              "    </tr>\n",
              "    <tr>\n",
              "      <th>9997</th>\n",
              "      <td>9998</td>\n",
              "      <td>M24857</td>\n",
              "      <td>M</td>\n",
              "      <td>299.0</td>\n",
              "      <td>308.6</td>\n",
              "      <td>1645</td>\n",
              "      <td>33.4</td>\n",
              "      <td>22</td>\n",
              "      <td>0</td>\n",
              "      <td>No Failure</td>\n",
              "    </tr>\n",
              "    <tr>\n",
              "      <th>9998</th>\n",
              "      <td>9999</td>\n",
              "      <td>H39412</td>\n",
              "      <td>H</td>\n",
              "      <td>299.0</td>\n",
              "      <td>308.7</td>\n",
              "      <td>1408</td>\n",
              "      <td>48.5</td>\n",
              "      <td>25</td>\n",
              "      <td>0</td>\n",
              "      <td>No Failure</td>\n",
              "    </tr>\n",
              "    <tr>\n",
              "      <th>9999</th>\n",
              "      <td>10000</td>\n",
              "      <td>M24859</td>\n",
              "      <td>M</td>\n",
              "      <td>299.0</td>\n",
              "      <td>308.7</td>\n",
              "      <td>1500</td>\n",
              "      <td>40.2</td>\n",
              "      <td>30</td>\n",
              "      <td>0</td>\n",
              "      <td>No Failure</td>\n",
              "    </tr>\n",
              "  </tbody>\n",
              "</table>\n",
              "<p>10000 rows × 10 columns</p>\n",
              "</div>\n",
              "      <button class=\"colab-df-convert\" onclick=\"convertToInteractive('df-d07bdad9-f718-48b1-8098-d384903b58ca')\"\n",
              "              title=\"Convert this dataframe to an interactive table.\"\n",
              "              style=\"display:none;\">\n",
              "        \n",
              "  <svg xmlns=\"http://www.w3.org/2000/svg\" height=\"24px\"viewBox=\"0 0 24 24\"\n",
              "       width=\"24px\">\n",
              "    <path d=\"M0 0h24v24H0V0z\" fill=\"none\"/>\n",
              "    <path d=\"M18.56 5.44l.94 2.06.94-2.06 2.06-.94-2.06-.94-.94-2.06-.94 2.06-2.06.94zm-11 1L8.5 8.5l.94-2.06 2.06-.94-2.06-.94L8.5 2.5l-.94 2.06-2.06.94zm10 10l.94 2.06.94-2.06 2.06-.94-2.06-.94-.94-2.06-.94 2.06-2.06.94z\"/><path d=\"M17.41 7.96l-1.37-1.37c-.4-.4-.92-.59-1.43-.59-.52 0-1.04.2-1.43.59L10.3 9.45l-7.72 7.72c-.78.78-.78 2.05 0 2.83L4 21.41c.39.39.9.59 1.41.59.51 0 1.02-.2 1.41-.59l7.78-7.78 2.81-2.81c.8-.78.8-2.07 0-2.86zM5.41 20L4 18.59l7.72-7.72 1.47 1.35L5.41 20z\"/>\n",
              "  </svg>\n",
              "      </button>\n",
              "      \n",
              "  <style>\n",
              "    .colab-df-container {\n",
              "      display:flex;\n",
              "      flex-wrap:wrap;\n",
              "      gap: 12px;\n",
              "    }\n",
              "\n",
              "    .colab-df-convert {\n",
              "      background-color: #E8F0FE;\n",
              "      border: none;\n",
              "      border-radius: 50%;\n",
              "      cursor: pointer;\n",
              "      display: none;\n",
              "      fill: #1967D2;\n",
              "      height: 32px;\n",
              "      padding: 0 0 0 0;\n",
              "      width: 32px;\n",
              "    }\n",
              "\n",
              "    .colab-df-convert:hover {\n",
              "      background-color: #E2EBFA;\n",
              "      box-shadow: 0px 1px 2px rgba(60, 64, 67, 0.3), 0px 1px 3px 1px rgba(60, 64, 67, 0.15);\n",
              "      fill: #174EA6;\n",
              "    }\n",
              "\n",
              "    [theme=dark] .colab-df-convert {\n",
              "      background-color: #3B4455;\n",
              "      fill: #D2E3FC;\n",
              "    }\n",
              "\n",
              "    [theme=dark] .colab-df-convert:hover {\n",
              "      background-color: #434B5C;\n",
              "      box-shadow: 0px 1px 3px 1px rgba(0, 0, 0, 0.15);\n",
              "      filter: drop-shadow(0px 1px 2px rgba(0, 0, 0, 0.3));\n",
              "      fill: #FFFFFF;\n",
              "    }\n",
              "  </style>\n",
              "\n",
              "      <script>\n",
              "        const buttonEl =\n",
              "          document.querySelector('#df-d07bdad9-f718-48b1-8098-d384903b58ca button.colab-df-convert');\n",
              "        buttonEl.style.display =\n",
              "          google.colab.kernel.accessAllowed ? 'block' : 'none';\n",
              "\n",
              "        async function convertToInteractive(key) {\n",
              "          const element = document.querySelector('#df-d07bdad9-f718-48b1-8098-d384903b58ca');\n",
              "          const dataTable =\n",
              "            await google.colab.kernel.invokeFunction('convertToInteractive',\n",
              "                                                     [key], {});\n",
              "          if (!dataTable) return;\n",
              "\n",
              "          const docLinkHtml = 'Like what you see? Visit the ' +\n",
              "            '<a target=\"_blank\" href=https://colab.research.google.com/notebooks/data_table.ipynb>data table notebook</a>'\n",
              "            + ' to learn more about interactive tables.';\n",
              "          element.innerHTML = '';\n",
              "          dataTable['output_type'] = 'display_data';\n",
              "          await google.colab.output.renderOutput(dataTable, element);\n",
              "          const docLink = document.createElement('div');\n",
              "          docLink.innerHTML = docLinkHtml;\n",
              "          element.appendChild(docLink);\n",
              "        }\n",
              "      </script>\n",
              "    </div>\n",
              "  </div>\n",
              "  "
            ]
          },
          "metadata": {},
          "execution_count": 8
        }
      ]
    },
    {
      "cell_type": "code",
      "source": [
        "base_datos[\"Air temperature [K]\"].hist(bins=20)"
      ],
      "metadata": {
        "colab": {
          "base_uri": "https://localhost:8080/",
          "height": 448
        },
        "id": "gNASuVMbI0xn",
        "outputId": "89a074a5-4712-47f0-acf0-6aa180b7d7e5"
      },
      "execution_count": null,
      "outputs": [
        {
          "output_type": "execute_result",
          "data": {
            "text/plain": [
              "<Axes: >"
            ]
          },
          "metadata": {},
          "execution_count": 50
        },
        {
          "output_type": "display_data",
          "data": {
            "text/plain": [
              "<Figure size 640x480 with 1 Axes>"
            ],
            "image/png": "[encoded data removed]"
          },
          "metadata": {}
        }
      ]
    },
    {
      "cell_type": "code",
      "source": [
        "base_datos[\"Process temperature [K]\"].hist(bins=20)"
      ],
      "metadata": {
        "colab": {
          "base_uri": "https://localhost:8080/",
          "height": 448
        },
        "id": "kzMaV_3fjPAY",
        "outputId": "ef697740-a585-466d-b615-4f6b2be0c61f"
      },
      "execution_count": null,
      "outputs": [
        {
          "output_type": "execute_result",
          "data": {
            "text/plain": [
              "<Axes: >"
            ]
          },
          "metadata": {},
          "execution_count": 51
        },
        {
          "output_type": "display_data",
          "data": {
            "text/plain": [
              "<Figure size 640x480 with 1 Axes>"
            ],
            "image/png": "[encoded data removed]"
          },
          "metadata": {}
        }
      ]
    },
    {
      "cell_type": "code",
      "source": [
        "base_datos[\"Rotational speed [rpm]\"].hist(bins=20)"
      ],
      "metadata": {
        "colab": {
          "base_uri": "https://localhost:8080/",
          "height": 448
        },
        "id": "oPio_bkEjZzP",
        "outputId": "f22f9186-945e-4720-a378-de2c3b94b5b2"
      },
      "execution_count": null,
      "outputs": [
        {
          "output_type": "execute_result",
          "data": {
            "text/plain": [
              "<Axes: >"
            ]
          },
          "metadata": {},
          "execution_count": 52
        },
        {
          "output_type": "display_data",
          "data": {
            "text/plain": [
              "<Figure size 640x480 with 1 Axes>"
            ],
            "image/png": "[encoded data removed]"
          },
          "metadata": {}
        }
      ]
    },
    {
      "cell_type": "code",
      "source": [
        "base_datos[\"Torque [Nm]\"].hist(bins=20)"
      ],
      "metadata": {
        "colab": {
          "base_uri": "https://localhost:8080/",
          "height": 448
        },
        "id": "rskiCb9Cjt7e",
        "outputId": "35916b82-2b6c-4d97-ea6b-6a313f4eb8a2"
      },
      "execution_count": null,
      "outputs": [
        {
          "output_type": "execute_result",
          "data": {
            "text/plain": [
              "<Axes: >"
            ]
          },
          "metadata": {},
          "execution_count": 53
        },
        {
          "output_type": "display_data",
          "data": {
            "text/plain": [
              "<Figure size 640x480 with 1 Axes>"
            ],
            "image/png": "[encoded data removed]"
          },
          "metadata": {}
        }
      ]
    },
    {
      "cell_type": "code",
      "source": [
        "base_datos[\"Tool wear [min]\"].hist(bins=20)"
      ],
      "metadata": {
        "colab": {
          "base_uri": "https://localhost:8080/",
          "height": 448
        },
        "id": "FFDzJCqCjkge",
        "outputId": "3cea4da5-046d-49a6-fba4-d7a0a2bca8cd"
      },
      "execution_count": null,
      "outputs": [
        {
          "output_type": "execute_result",
          "data": {
            "text/plain": [
              "<Axes: >"
            ]
          },
          "metadata": {},
          "execution_count": 54
        },
        {
          "output_type": "display_data",
          "data": {
            "text/plain": [
              "<Figure size 640x480 with 1 Axes>"
            ],
            "image/png": "[encoded data removed]"
          },
          "metadata": {}
        }
      ]
    },
    {
      "cell_type": "code",
      "source": [
        "correlacion = base_datos.corr()\n",
        "correlacion"
      ],
      "metadata": {
        "colab": {
          "base_uri": "https://localhost:8080/",
          "height": 269
        },
        "id": "hNa1F0OXw884",
        "outputId": "ce84a818-abe9-4663-e23a-224390732573"
      },
      "execution_count": null,
      "outputs": [
        {
          "output_type": "execute_result",
          "data": {
            "text/plain": [
              "                              UDI  Air temperature [K]  \\\n",
              "UDI                      1.000000             0.117428   \n",
              "Air temperature [K]      0.117428             1.000000   \n",
              "Process temperature [K]  0.324428             0.876107   \n",
              "Rotational speed [rpm]  -0.006615             0.022670   \n",
              "Torque [Nm]              0.003207            -0.013778   \n",
              "Tool wear [min]         -0.010702             0.013853   \n",
              "Target                  -0.022892             0.082556   \n",
              "\n",
              "                         Process temperature [K]  Rotational speed [rpm]  \\\n",
              "UDI                                     0.324428               -0.006615   \n",
              "Air temperature [K]                     0.876107                0.022670   \n",
              "Process temperature [K]                 1.000000                0.019277   \n",
              "Rotational speed [rpm]                  0.019277                1.000000   \n",
              "Torque [Nm]                            -0.014061               -0.875027   \n",
              "Tool wear [min]                         0.013488                0.000223   \n",
              "Target                                  0.035946               -0.044188   \n",
              "\n",
              "                         Torque [Nm]  Tool wear [min]    Target  \n",
              "UDI                         0.003207        -0.010702 -0.022892  \n",
              "Air temperature [K]        -0.013778         0.013853  0.082556  \n",
              "Process temperature [K]    -0.014061         0.013488  0.035946  \n",
              "Rotational speed [rpm]     -0.875027         0.000223 -0.044188  \n",
              "Torque [Nm]                 1.000000        -0.003093  0.191321  \n",
              "Tool wear [min]            -0.003093         1.000000  0.105448  \n",
              "Target                      0.191321         0.105448  1.000000  "
            ],
            "text/html": [
              "\n",
              "  <div id=\"df-ce617fa8-fffd-4687-8c71-ceb5692ec0cd\">\n",
              "    <div class=\"colab-df-container\">\n",
              "      <div>\n",
              "<style scoped>\n",
              "    .dataframe tbody tr th:only-of-type {\n",
              "        vertical-align: middle;\n",
              "    }\n",
              "\n",
              "    .dataframe tbody tr th {\n",
              "        vertical-align: top;\n",
              "    }\n",
              "\n",
              "    .dataframe thead th {\n",
              "        text-align: right;\n",
              "    }\n",
              "</style>\n",
              "<table border=\"1\" class=\"dataframe\">\n",
              "  <thead>\n",
              "    <tr style=\"text-align: right;\">\n",
              "      <th></th>\n",
              "      <th>UDI</th>\n",
              "      <th>Air temperature [K]</th>\n",
              "      <th>Process temperature [K]</th>\n",
              "      <th>Rotational speed [rpm]</th>\n",
              "      <th>Torque [Nm]</th>\n",
              "      <th>Tool wear [min]</th>\n",
              "      <th>Target</th>\n",
              "    </tr>\n",
              "  </thead>\n",
              "  <tbody>\n",
              "    <tr>\n",
              "      <th>UDI</th>\n",
              "      <td>1.000000</td>\n",
              "      <td>0.117428</td>\n",
              "      <td>0.324428</td>\n",
              "      <td>-0.006615</td>\n",
              "      <td>0.003207</td>\n",
              "      <td>-0.010702</td>\n",
              "      <td>-0.022892</td>\n",
              "    </tr>\n",
              "    <tr>\n",
              "      <th>Air temperature [K]</th>\n",
              "      <td>0.117428</td>\n",
              "      <td>1.000000</td>\n",
              "      <td>0.876107</td>\n",
              "      <td>0.022670</td>\n",
              "      <td>-0.013778</td>\n",
              "      <td>0.013853</td>\n",
              "      <td>0.082556</td>\n",
              "    </tr>\n",
              "    <tr>\n",
              "      <th>Process temperature [K]</th>\n",
              "      <td>0.324428</td>\n",
              "      <td>0.876107</td>\n",
              "      <td>1.000000</td>\n",
              "      <td>0.019277</td>\n",
              "      <td>-0.014061</td>\n",
              "      <td>0.013488</td>\n",
              "      <td>0.035946</td>\n",
              "    </tr>\n",
              "    <tr>\n",
              "      <th>Rotational speed [rpm]</th>\n",
              "      <td>-0.006615</td>\n",
              "      <td>0.022670</td>\n",
              "      <td>0.019277</td>\n",
              "      <td>1.000000</td>\n",
              "      <td>-0.875027</td>\n",
              "      <td>0.000223</td>\n",
              "      <td>-0.044188</td>\n",
              "    </tr>\n",
              "    <tr>\n",
              "      <th>Torque [Nm]</th>\n",
              "      <td>0.003207</td>\n",
              "      <td>-0.013778</td>\n",
              "      <td>-0.014061</td>\n",
              "      <td>-0.875027</td>\n",
              "      <td>1.000000</td>\n",
              "      <td>-0.003093</td>\n",
              "      <td>0.191321</td>\n",
              "    </tr>\n",
              "    <tr>\n",
              "      <th>Tool wear [min]</th>\n",
              "      <td>-0.010702</td>\n",
              "      <td>0.013853</td>\n",
              "      <td>0.013488</td>\n",
              "      <td>0.000223</td>\n",
              "      <td>-0.003093</td>\n",
              "      <td>1.000000</td>\n",
              "      <td>0.105448</td>\n",
              "    </tr>\n",
              "    <tr>\n",
              "      <th>Target</th>\n",
              "      <td>-0.022892</td>\n",
              "      <td>0.082556</td>\n",
              "      <td>0.035946</td>\n",
              "      <td>-0.044188</td>\n",
              "      <td>0.191321</td>\n",
              "      <td>0.105448</td>\n",
              "      <td>1.000000</td>\n",
              "    </tr>\n",
              "  </tbody>\n",
              "</table>\n",
              "</div>\n",
              "      <button class=\"colab-df-convert\" onclick=\"convertToInteractive('df-ce617fa8-fffd-4687-8c71-ceb5692ec0cd')\"\n",
              "              title=\"Convert this dataframe to an interactive table.\"\n",
              "              style=\"display:none;\">\n",
              "        \n",
              "  <svg xmlns=\"http://www.w3.org/2000/svg\" height=\"24px\"viewBox=\"0 0 24 24\"\n",
              "       width=\"24px\">\n",
              "    <path d=\"M0 0h24v24H0V0z\" fill=\"none\"/>\n",
              "    <path d=\"M18.56 5.44l.94 2.06.94-2.06 2.06-.94-2.06-.94-.94-2.06-.94 2.06-2.06.94zm-11 1L8.5 8.5l.94-2.06 2.06-.94-2.06-.94L8.5 2.5l-.94 2.06-2.06.94zm10 10l.94 2.06.94-2.06 2.06-.94-2.06-.94-.94-2.06-.94 2.06-2.06.94z\"/><path d=\"M17.41 7.96l-1.37-1.37c-.4-.4-.92-.59-1.43-.59-.52 0-1.04.2-1.43.59L10.3 9.45l-7.72 7.72c-.78.78-.78 2.05 0 2.83L4 21.41c.39.39.9.59 1.41.59.51 0 1.02-.2 1.41-.59l7.78-7.78 2.81-2.81c.8-.78.8-2.07 0-2.86zM5.41 20L4 18.59l7.72-7.72 1.47 1.35L5.41 20z\"/>\n",
              "  </svg>\n",
              "      </button>\n",
              "      \n",
              "  <style>\n",
              "    .colab-df-container {\n",
              "      display:flex;\n",
              "      flex-wrap:wrap;\n",
              "      gap: 12px;\n",
              "    }\n",
              "\n",
              "    .colab-df-convert {\n",
              "      background-color: #E8F0FE;\n",
              "      border: none;\n",
              "      border-radius: 50%;\n",
              "      cursor: pointer;\n",
              "      display: none;\n",
              "      fill: #1967D2;\n",
              "      height: 32px;\n",
              "      padding: 0 0 0 0;\n",
              "      width: 32px;\n",
              "    }\n",
              "\n",
              "    .colab-df-convert:hover {\n",
              "      background-color: #E2EBFA;\n",
              "      box-shadow: 0px 1px 2px rgba(60, 64, 67, 0.3), 0px 1px 3px 1px rgba(60, 64, 67, 0.15);\n",
              "      fill: #174EA6;\n",
              "    }\n",
              "\n",
              "    [theme=dark] .colab-df-convert {\n",
              "      background-color: #3B4455;\n",
              "      fill: #D2E3FC;\n",
              "    }\n",
              "\n",
              "    [theme=dark] .colab-df-convert:hover {\n",
              "      background-color: #434B5C;\n",
              "      box-shadow: 0px 1px 3px 1px rgba(0, 0, 0, 0.15);\n",
              "      filter: drop-shadow(0px 1px 2px rgba(0, 0, 0, 0.3));\n",
              "      fill: #FFFFFF;\n",
              "    }\n",
              "  </style>\n",
              "\n",
              "      <script>\n",
              "        const buttonEl =\n",
              "          document.querySelector('#df-ce617fa8-fffd-4687-8c71-ceb5692ec0cd button.colab-df-convert');\n",
              "        buttonEl.style.display =\n",
              "          google.colab.kernel.accessAllowed ? 'block' : 'none';\n",
              "\n",
              "        async function convertToInteractive(key) {\n",
              "          const element = document.querySelector('#df-ce617fa8-fffd-4687-8c71-ceb5692ec0cd');\n",
              "          const dataTable =\n",
              "            await google.colab.kernel.invokeFunction('convertToInteractive',\n",
              "                                                     [key], {});\n",
              "          if (!dataTable) return;\n",
              "\n",
              "          const docLinkHtml = 'Like what you see? Visit the ' +\n",
              "            '<a target=\"_blank\" href=https://colab.research.google.com/notebooks/data_table.ipynb>data table notebook</a>'\n",
              "            + ' to learn more about interactive tables.';\n",
              "          element.innerHTML = '';\n",
              "          dataTable['output_type'] = 'display_data';\n",
              "          await google.colab.output.renderOutput(dataTable, element);\n",
              "          const docLink = document.createElement('div');\n",
              "          docLink.innerHTML = docLinkHtml;\n",
              "          element.appendChild(docLink);\n",
              "        }\n",
              "      </script>\n",
              "    </div>\n",
              "  </div>\n",
              "  "
            ]
          },
          "metadata": {},
          "execution_count": 56
        }
      ]
    },
    {
      "cell_type": "code",
      "source": [
        "plt.figure(figsize=(10, 8))\n",
        "sns.heatmap(correlacion, annot=True, cmap=\"coolwarm\")\n",
        "plt.title(\"Correlograma\")\n",
        "plt.show()"
      ],
      "metadata": {
        "colab": {
          "base_uri": "https://localhost:8080/",
          "height": 853
        },
        "id": "KM20ewDl1PWA",
        "outputId": "f79d31f2-3f6a-4a84-eabf-f49c1d3cbf4a"
      },
      "execution_count": null,
      "outputs": [
        {
          "output_type": "display_data",
          "data": {
            "text/plain": [
              "<Figure size 1000x800 with 2 Axes>"
            ],
            "image/png": "[encoded data removed]"
          },
          "metadata": {}
        }
      ]
    },
    {
      "cell_type": "code",
      "source": [
        "X = base_datos[[\"Air temperature [K]\", \"Process temperature [K]\", \"Rotational speed [rpm]\", \"Torque [Nm]\", \"Tool wear [min]\"]]\n",
        "y = base_datos[\"Target\"]"
      ],
      "metadata": {
        "id": "HZ_XxyllEURi"
      },
      "execution_count": null,
      "outputs": []
    },
    {
      "cell_type": "code",
      "source": [
        "X_train, X_test, y_train, y_test = train_test_split(X, y, test_size=0.2, random_state=42)"
      ],
      "metadata": {
        "id": "oU9Og71GE8A9"
      },
      "execution_count": null,
      "outputs": []
    },
    {
      "cell_type": "code",
      "source": [
        "logreg_model = LogisticRegression()\n",
        "modelo = logreg_model.fit(X_train, y_train)"
      ],
      "metadata": {
        "id": "SrRDwe-DGNrM"
      },
      "execution_count": null,
      "outputs": []
    },
    {
      "cell_type": "code",
      "source": [
        "y_train_pred = logreg_model.predict(X_train)\n",
        "y_test_pred = logreg_model.predict(X_test)"
      ],
      "metadata": {
        "id": "6WnyT2sbGsgc"
      },
      "execution_count": null,
      "outputs": []
    },
    {
      "cell_type": "code",
      "source": [
        "train_accuracy = accuracy_score(y_train, y_train_pred)\n",
        "test_accuracy = accuracy_score(y_test, y_test_pred)"
      ],
      "metadata": {
        "id": "py5GRY6-GwjY"
      },
      "execution_count": null,
      "outputs": []
    },
    {
      "cell_type": "code",
      "source": [
        "print(logreg_model.coef_)"
      ],
      "metadata": {
        "id": "DMS34-mDN7OK",
        "outputId": "25830c61-548d-4252-d1b2-cf1f428fbdb2",
        "colab": {
          "base_uri": "https://localhost:8080/"
        }
      },
      "execution_count": null,
      "outputs": [
        {
          "output_type": "stream",
          "name": "stdout",
          "text": [
            "[[ 0.84726286 -0.93337285  0.0115102   0.27973223  0.01316387]]\n"
          ]
        }
      ]
    },
    {
      "cell_type": "code",
      "source": [
        "print(f\"Precisión en el conjunto de entrenamiento: {train_accuracy:.2f}\")\n",
        "print(f\"Precisión en el conjunto de prueba: {test_accuracy:.2f}\")"
      ],
      "metadata": {
        "colab": {
          "base_uri": "https://localhost:8080/"
        },
        "id": "bdbW-xUQG263",
        "outputId": "e614683d-20c8-4a4b-acf4-7052c6350946"
      },
      "execution_count": null,
      "outputs": [
        {
          "output_type": "stream",
          "name": "stdout",
          "text": [
            "Precisión en el conjunto de entrenamiento: 0.97\n",
            "Precisión en el conjunto de prueba: 0.97\n"
          ]
        }
      ]
    },
    {
      "cell_type": "code",
      "source": [
        "conf_matrix = confusion_matrix(y_test, y_test_pred)\n",
        "print(\"Matriz de confusión en el conjunto de prueba:\")\n",
        "print(conf_matrix)"
      ],
      "metadata": {
        "id": "kL9DkhjnG-3G",
        "outputId": "14bf2f91-fcd0-4252-e895-3fe8dcb80ce4",
        "colab": {
          "base_uri": "https://localhost:8080/"
        }
      },
      "execution_count": null,
      "outputs": [
        {
          "output_type": "stream",
          "name": "stdout",
          "text": [
            "Matriz de confusión en el conjunto de prueba:\n",
            "[[1929   10]\n",
            " [  45   16]]\n"
          ]
        }
      ]
    },
    {
      "cell_type": "code",
      "source": [
        "sexo = np.matrix(y_train_pred).T\n",
        "massexo = pd.DataFrame(sexo)\n",
        "np.count_nonzero(massexo)"
      ],
      "metadata": {
        "colab": {
          "base_uri": "https://localhost:8080/"
        },
        "id": "QWXBzcfmHiQ5",
        "outputId": "d09b504b-5af2-4508-da44-8d510a26d9e7"
      },
      "execution_count": null,
      "outputs": [
        {
          "output_type": "execute_result",
          "data": {
            "text/plain": [
              "79"
            ]
          },
          "metadata": {},
          "execution_count": 17
        }
      ]
    },
    {
      "cell_type": "code",
      "source": [
        "# Calcular la probabilidad predicha de y=1 para cada fila en los datos de entrada\n",
        "probs_y = modelo.predict_proba(X)[:, 1]"
      ],
      "metadata": {
        "id": "o-f1iXFZPPqP"
      },
      "execution_count": null,
      "outputs": []
    },
    {
      "cell_type": "code",
      "source": [
        "npX=np.matrix(X)\n",
        "dfX=pd.DataFrame(X)\n",
        "X"
      ],
      "metadata": {
        "id": "RVxADYJeBt04",
        "outputId": "83e0d57e-08de-43d5-c18b-9139216a56cb",
        "colab": {
          "base_uri": "https://localhost:8080/",
          "height": 424
        }
      },
      "execution_count": null,
      "outputs": [
        {
          "output_type": "execute_result",
          "data": {
            "text/plain": [
              "      Air temperature [K]  Process temperature [K]  Rotational speed [rpm]  \\\n",
              "0                   298.1                    308.6                    1551   \n",
              "1                   298.2                    308.7                    1408   \n",
              "2                   298.1                    308.5                    1498   \n",
              "3                   298.2                    308.6                    1433   \n",
              "4                   298.2                    308.7                    1408   \n",
              "...                   ...                      ...                     ...   \n",
              "9995                298.8                    308.4                    1604   \n",
              "9996                298.9                    308.4                    1632   \n",
              "9997                299.0                    308.6                    1645   \n",
              "9998                299.0                    308.7                    1408   \n",
              "9999                299.0                    308.7                    1500   \n",
              "\n",
              "      Torque [Nm]  Tool wear [min]  \n",
              "0            42.8                0  \n",
              "1            46.3                3  \n",
              "2            49.4                5  \n",
              "3            39.5                7  \n",
              "4            40.0                9  \n",
              "...           ...              ...  \n",
              "9995         29.5               14  \n",
              "9996         31.8               17  \n",
              "9997         33.4               22  \n",
              "9998         48.5               25  \n",
              "9999         40.2               30  \n",
              "\n",
              "[10000 rows x 5 columns]"
            ],
            "text/html": [
              "\n",
              "  <div id=\"df-1637af01-791c-4f4e-9f5c-60845d7c8753\">\n",
              "    <div class=\"colab-df-container\">\n",
              "      <div>\n",
              "<style scoped>\n",
              "    .dataframe tbody tr th:only-of-type {\n",
              "        vertical-align: middle;\n",
              "    }\n",
              "\n",
              "    .dataframe tbody tr th {\n",
              "        vertical-align: top;\n",
              "    }\n",
              "\n",
              "    .dataframe thead th {\n",
              "        text-align: right;\n",
              "    }\n",
              "</style>\n",
              "<table border=\"1\" class=\"dataframe\">\n",
              "  <thead>\n",
              "    <tr style=\"text-align: right;\">\n",
              "      <th></th>\n",
              "      <th>Air temperature [K]</th>\n",
              "      <th>Process temperature [K]</th>\n",
              "      <th>Rotational speed [rpm]</th>\n",
              "      <th>Torque [Nm]</th>\n",
              "      <th>Tool wear [min]</th>\n",
              "    </tr>\n",
              "  </thead>\n",
              "  <tbody>\n",
              "    <tr>\n",
              "      <th>0</th>\n",
              "      <td>298.1</td>\n",
              "      <td>308.6</td>\n",
              "      <td>1551</td>\n",
              "      <td>42.8</td>\n",
              "      <td>0</td>\n",
              "    </tr>\n",
              "    <tr>\n",
              "      <th>1</th>\n",
              "      <td>298.2</td>\n",
              "      <td>308.7</td>\n",
              "      <td>1408</td>\n",
              "      <td>46.3</td>\n",
              "      <td>3</td>\n",
              "    </tr>\n",
              "    <tr>\n",
              "      <th>2</th>\n",
              "      <td>298.1</td>\n",
              "      <td>308.5</td>\n",
              "      <td>1498</td>\n",
              "      <td>49.4</td>\n",
              "      <td>5</td>\n",
              "    </tr>\n",
              "    <tr>\n",
              "      <th>3</th>\n",
              "      <td>298.2</td>\n",
              "      <td>308.6</td>\n",
              "      <td>1433</td>\n",
              "      <td>39.5</td>\n",
              "      <td>7</td>\n",
              "    </tr>\n",
              "    <tr>\n",
              "      <th>4</th>\n",
              "      <td>298.2</td>\n",
              "      <td>308.7</td>\n",
              "      <td>1408</td>\n",
              "      <td>40.0</td>\n",
              "      <td>9</td>\n",
              "    </tr>\n",
              "    <tr>\n",
              "      <th>...</th>\n",
              "      <td>...</td>\n",
              "      <td>...</td>\n",
              "      <td>...</td>\n",
              "      <td>...</td>\n",
              "      <td>...</td>\n",
              "    </tr>\n",
              "    <tr>\n",
              "      <th>9995</th>\n",
              "      <td>298.8</td>\n",
              "      <td>308.4</td>\n",
              "      <td>1604</td>\n",
              "      <td>29.5</td>\n",
              "      <td>14</td>\n",
              "    </tr>\n",
              "    <tr>\n",
              "      <th>9996</th>\n",
              "      <td>298.9</td>\n",
              "      <td>308.4</td>\n",
              "      <td>1632</td>\n",
              "      <td>31.8</td>\n",
              "      <td>17</td>\n",
              "    </tr>\n",
              "    <tr>\n",
              "      <th>9997</th>\n",
              "      <td>299.0</td>\n",
              "      <td>308.6</td>\n",
              "      <td>1645</td>\n",
              "      <td>33.4</td>\n",
              "      <td>22</td>\n",
              "    </tr>\n",
              "    <tr>\n",
              "      <th>9998</th>\n",
              "      <td>299.0</td>\n",
              "      <td>308.7</td>\n",
              "      <td>1408</td>\n",
              "      <td>48.5</td>\n",
              "      <td>25</td>\n",
              "    </tr>\n",
              "    <tr>\n",
              "      <th>9999</th>\n",
              "      <td>299.0</td>\n",
              "      <td>308.7</td>\n",
              "      <td>1500</td>\n",
              "      <td>40.2</td>\n",
              "      <td>30</td>\n",
              "    </tr>\n",
              "  </tbody>\n",
              "</table>\n",
              "<p>10000 rows × 5 columns</p>\n",
              "</div>\n",
              "      <button class=\"colab-df-convert\" onclick=\"convertToInteractive('df-1637af01-791c-4f4e-9f5c-60845d7c8753')\"\n",
              "              title=\"Convert this dataframe to an interactive table.\"\n",
              "              style=\"display:none;\">\n",
              "        \n",
              "  <svg xmlns=\"http://www.w3.org/2000/svg\" height=\"24px\"viewBox=\"0 0 24 24\"\n",
              "       width=\"24px\">\n",
              "    <path d=\"M0 0h24v24H0V0z\" fill=\"none\"/>\n",
              "    <path d=\"M18.56 5.44l.94 2.06.94-2.06 2.06-.94-2.06-.94-.94-2.06-.94 2.06-2.06.94zm-11 1L8.5 8.5l.94-2.06 2.06-.94-2.06-.94L8.5 2.5l-.94 2.06-2.06.94zm10 10l.94 2.06.94-2.06 2.06-.94-2.06-.94-.94-2.06-.94 2.06-2.06.94z\"/><path d=\"M17.41 7.96l-1.37-1.37c-.4-.4-.92-.59-1.43-.59-.52 0-1.04.2-1.43.59L10.3 9.45l-7.72 7.72c-.78.78-.78 2.05 0 2.83L4 21.41c.39.39.9.59 1.41.59.51 0 1.02-.2 1.41-.59l7.78-7.78 2.81-2.81c.8-.78.8-2.07 0-2.86zM5.41 20L4 18.59l7.72-7.72 1.47 1.35L5.41 20z\"/>\n",
              "  </svg>\n",
              "      </button>\n",
              "      \n",
              "  <style>\n",
              "    .colab-df-container {\n",
              "      display:flex;\n",
              "      flex-wrap:wrap;\n",
              "      gap: 12px;\n",
              "    }\n",
              "\n",
              "    .colab-df-convert {\n",
              "      background-color: #E8F0FE;\n",
              "      border: none;\n",
              "      border-radius: 50%;\n",
              "      cursor: pointer;\n",
              "      display: none;\n",
              "      fill: #1967D2;\n",
              "      height: 32px;\n",
              "      padding: 0 0 0 0;\n",
              "      width: 32px;\n",
              "    }\n",
              "\n",
              "    .colab-df-convert:hover {\n",
              "      background-color: #E2EBFA;\n",
              "      box-shadow: 0px 1px 2px rgba(60, 64, 67, 0.3), 0px 1px 3px 1px rgba(60, 64, 67, 0.15);\n",
              "      fill: #174EA6;\n",
              "    }\n",
              "\n",
              "    [theme=dark] .colab-df-convert {\n",
              "      background-color: #3B4455;\n",
              "      fill: #D2E3FC;\n",
              "    }\n",
              "\n",
              "    [theme=dark] .colab-df-convert:hover {\n",
              "      background-color: #434B5C;\n",
              "      box-shadow: 0px 1px 3px 1px rgba(0, 0, 0, 0.15);\n",
              "      filter: drop-shadow(0px 1px 2px rgba(0, 0, 0, 0.3));\n",
              "      fill: #FFFFFF;\n",
              "    }\n",
              "  </style>\n",
              "\n",
              "      <script>\n",
              "        const buttonEl =\n",
              "          document.querySelector('#df-1637af01-791c-4f4e-9f5c-60845d7c8753 button.colab-df-convert');\n",
              "        buttonEl.style.display =\n",
              "          google.colab.kernel.accessAllowed ? 'block' : 'none';\n",
              "\n",
              "        async function convertToInteractive(key) {\n",
              "          const element = document.querySelector('#df-1637af01-791c-4f4e-9f5c-60845d7c8753');\n",
              "          const dataTable =\n",
              "            await google.colab.kernel.invokeFunction('convertToInteractive',\n",
              "                                                     [key], {});\n",
              "          if (!dataTable) return;\n",
              "\n",
              "          const docLinkHtml = 'Like what you see? Visit the ' +\n",
              "            '<a target=\"_blank\" href=https://colab.research.google.com/notebooks/data_table.ipynb>data table notebook</a>'\n",
              "            + ' to learn more about interactive tables.';\n",
              "          element.innerHTML = '';\n",
              "          dataTable['output_type'] = 'display_data';\n",
              "          await google.colab.output.renderOutput(dataTable, element);\n",
              "          const docLink = document.createElement('div');\n",
              "          docLink.innerHTML = docLinkHtml;\n",
              "          element.appendChild(docLink);\n",
              "        }\n",
              "      </script>\n",
              "    </div>\n",
              "  </div>\n",
              "  "
            ]
          },
          "metadata": {},
          "execution_count": 19
        }
      ]
    },
    {
      "cell_type": "code",
      "source": [
        "\n",
        "num_scenarios = 1000\n",
        "probs_y_mc = []\n",
        "for i in range(num_scenarios):\n",
        "    x1 = np.random.normal(np.mean(npX[:, 0]), np.std(npX[:, 0]))\n",
        "    x2 = np.random.normal(np.mean(npX[:, 1]), np.std(npX[:, 1]))\n",
        "    x3 = np.random.normal(np.mean(npX[:, 2]), np.std(npX[:, 2]))\n",
        "    x4 = np.random.normal(np.mean(npX[:, 3]), np.std(npX[:, 3]))\n",
        "    x5 = np.random.normal(np.mean(npX[:, 4]), np.std(npX[:, 4]))\n",
        "    linear_pred = modelo.intercept_ + modelo.coef_[0][0] * x1 + modelo.coef_[0][1] * x2 + modelo.coef_[0][2] * x3 + modelo.coef_[0][3] * x4 + modelo.coef_[0][4] * x5\n",
        "    p_y = 1 / (1 + np.exp(-linear_pred))\n",
        "    probs_y_mc.append(p_y)\n",
        "\n",
        "\n"
      ],
      "metadata": {
        "id": "yOW12n2Xxc12"
      },
      "execution_count": null,
      "outputs": []
    },
    {
      "cell_type": "code",
      "source": [
        "plt.hist(probs_y_mc, bins=20)\n",
        "plt.xlabel('Probabilidad de éxito')\n",
        "plt.ylabel('Frecuencia')\n",
        "plt.show()"
      ],
      "metadata": {
        "id": "7JwrykmcBOZo",
        "colab": {
          "base_uri": "https://localhost:8080/",
          "height": 449
        },
        "outputId": "ab7bb902-b2ef-4ad2-86d8-a6bbffe704ef"
      },
      "execution_count": null,
      "outputs": [
        {
          "output_type": "display_data",
          "data": {
            "text/plain": [
              "<Figure size 640x480 with 1 Axes>"
            ],
            "image/png": "[encoded data removed]"
          },
          "metadata": {}
        }
      ]
    },
    {
      "cell_type": "code",
      "source": [],
      "metadata": {
        "id": "RtKEQyjPUzmH"
      },
      "execution_count": null,
      "outputs": []
    },
    {
      "cell_type": "code",
      "source": [
        "# Calcular la probabilidad media de y=1 \n",
        "p = np.mean(probs_y_mc)\n",
        "p"
      ],
      "metadata": {
        "id": "EmYjHN7kQaUo",
        "colab": {
          "base_uri": "https://localhost:8080/"
        },
        "outputId": "7750f838-09d1-4288-8674-ee7b9e010ebe"
      },
      "execution_count": null,
      "outputs": [
        {
          "output_type": "execute_result",
          "data": {
            "text/plain": [
              "0.1400496058663584"
            ]
          },
          "metadata": {},
          "execution_count": 34
        }
      ]
    },
    {
      "cell_type": "code",
      "source": [
        "#Error estandar de probabilidad de y\n",
        "ee = np.std(probs_y_mc)\n",
        "ee"
      ],
      "metadata": {
        "id": "zoxIChLbZIae",
        "colab": {
          "base_uri": "https://localhost:8080/"
        },
        "outputId": "bb6480b9-ef1b-4600-98fa-81cdd210c946"
      },
      "execution_count": null,
      "outputs": [
        {
          "output_type": "execute_result",
          "data": {
            "text/plain": [
              "0.2801880335211513"
            ]
          },
          "metadata": {},
          "execution_count": 32
        }
      ]
    },
    {
      "cell_type": "code",
      "source": [
        "nivel_confianza = 0.95\n",
        "z = norm.ppf(1 - (1 - nivel_confianza)/2)"
      ],
      "metadata": {
        "id": "gtkOi569eVFF"
      },
      "execution_count": null,
      "outputs": []
    },
    {
      "cell_type": "code",
      "source": [
        "#Intervalo de confianza\n",
        "n = 1000\n",
        "IC_lower = p - z * np.sqrt(p * (1 - p) / n)\n",
        "IC_upper = p + z * np.sqrt(p * (1 - p) / n)\n",
        "print(IC_lower,IC_upper) "
      ],
      "metadata": {
        "id": "ouT4LMgSZ28l",
        "colab": {
          "base_uri": "https://localhost:8080/"
        },
        "outputId": "31b08503-fc9c-4048-b5b1-fee52d385170"
      },
      "execution_count": null,
      "outputs": [
        {
          "output_type": "stream",
          "name": "stdout",
          "text": [
            "0.12230759566204247 0.16583744332023764\n"
          ]
        }
      ]
    }
  ]
}